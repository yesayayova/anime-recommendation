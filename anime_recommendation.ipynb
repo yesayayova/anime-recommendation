{
 "cells": [
  {
   "cell_type": "code",
   "execution_count": 31,
   "id": "c31ff5f8",
   "metadata": {},
   "outputs": [],
   "source": [
    "from sklearn.feature_extraction.text import CountVectorizer\n",
    "from sklearn.metrics.pairwise import cosine_similarity\n",
    "from sklearn.feature_extraction.text import TfidfVectorizer\n",
    "import pandas as pd\n",
    "import numpy as np"
   ]
  },
  {
   "cell_type": "code",
   "execution_count": 32,
   "id": "3936bb9f",
   "metadata": {},
   "outputs": [
    {
     "data": {
      "text/html": [
       "<div>\n",
       "<style scoped>\n",
       "    .dataframe tbody tr th:only-of-type {\n",
       "        vertical-align: middle;\n",
       "    }\n",
       "\n",
       "    .dataframe tbody tr th {\n",
       "        vertical-align: top;\n",
       "    }\n",
       "\n",
       "    .dataframe thead th {\n",
       "        text-align: right;\n",
       "    }\n",
       "</style>\n",
       "<table border=\"1\" class=\"dataframe\">\n",
       "  <thead>\n",
       "    <tr style=\"text-align: right;\">\n",
       "      <th></th>\n",
       "      <th>Anime_id</th>\n",
       "      <th>Title</th>\n",
       "      <th>Genre</th>\n",
       "      <th>Synopsis</th>\n",
       "      <th>Type</th>\n",
       "      <th>Producer</th>\n",
       "      <th>Studio</th>\n",
       "      <th>Rating</th>\n",
       "      <th>ScoredBy</th>\n",
       "      <th>Popularity</th>\n",
       "      <th>Members</th>\n",
       "      <th>Episodes</th>\n",
       "      <th>Source</th>\n",
       "      <th>Aired</th>\n",
       "      <th>Link</th>\n",
       "    </tr>\n",
       "  </thead>\n",
       "  <tbody>\n",
       "    <tr>\n",
       "      <th>0</th>\n",
       "      <td>1</td>\n",
       "      <td>Cowboy Bebop</td>\n",
       "      <td>['Action', 'Adventure', 'Comedy', 'Drama', 'Sc...</td>\n",
       "      <td>In the year 2071, humanity has colonized sever...</td>\n",
       "      <td>TV</td>\n",
       "      <td>['Bandai Visual']</td>\n",
       "      <td>['Sunrise']</td>\n",
       "      <td>8.81</td>\n",
       "      <td>363889.0</td>\n",
       "      <td>39.0</td>\n",
       "      <td>704490.0</td>\n",
       "      <td>26.0</td>\n",
       "      <td>Original</td>\n",
       "      <td>Apr 3, 1998 to Apr 24, 1999</td>\n",
       "      <td>https://myanimelist.net/anime/1/Cowboy_Bebop</td>\n",
       "    </tr>\n",
       "    <tr>\n",
       "      <th>1</th>\n",
       "      <td>5</td>\n",
       "      <td>Cowboy Bebop: Tengoku no Tobira</td>\n",
       "      <td>['Action', 'Space', 'Drama', 'Mystery', 'Sci-Fi']</td>\n",
       "      <td>Another day, another bounty—such is the life o...</td>\n",
       "      <td>Movie</td>\n",
       "      <td>['Sunrise', 'Bandai Visual']</td>\n",
       "      <td>['Bones']</td>\n",
       "      <td>8.41</td>\n",
       "      <td>111187.0</td>\n",
       "      <td>475.0</td>\n",
       "      <td>179899.0</td>\n",
       "      <td>1.0</td>\n",
       "      <td>Original</td>\n",
       "      <td>Sep 1, 2001</td>\n",
       "      <td>https://myanimelist.net/anime/5/Cowboy_Bebop__...</td>\n",
       "    </tr>\n",
       "    <tr>\n",
       "      <th>2</th>\n",
       "      <td>6</td>\n",
       "      <td>Trigun</td>\n",
       "      <td>['Action', 'Sci-Fi', 'Adventure', 'Comedy', 'D...</td>\n",
       "      <td>Vash the Stampede is the man with a $$60,000,0...</td>\n",
       "      <td>TV</td>\n",
       "      <td>['Victor Entertainment']</td>\n",
       "      <td>['Madhouse']</td>\n",
       "      <td>8.31</td>\n",
       "      <td>197451.0</td>\n",
       "      <td>158.0</td>\n",
       "      <td>372709.0</td>\n",
       "      <td>26.0</td>\n",
       "      <td>Manga</td>\n",
       "      <td>Apr 1, 1998 to Sep 30, 1998</td>\n",
       "      <td>https://myanimelist.net/anime/6/Trigun</td>\n",
       "    </tr>\n",
       "    <tr>\n",
       "      <th>3</th>\n",
       "      <td>7</td>\n",
       "      <td>Witch Hunter Robin</td>\n",
       "      <td>['Action', 'Magic', 'Police', 'Supernatural', ...</td>\n",
       "      <td>Witches are individuals with special powers li...</td>\n",
       "      <td>TV</td>\n",
       "      <td>['Bandai Visual']</td>\n",
       "      <td>['Sunrise']</td>\n",
       "      <td>7.34</td>\n",
       "      <td>31875.0</td>\n",
       "      <td>1278.0</td>\n",
       "      <td>74889.0</td>\n",
       "      <td>26.0</td>\n",
       "      <td>Original</td>\n",
       "      <td>Jul 2, 2002 to Dec 24, 2002</td>\n",
       "      <td>https://myanimelist.net/anime/7/Witch_Hunter_R...</td>\n",
       "    </tr>\n",
       "    <tr>\n",
       "      <th>4</th>\n",
       "      <td>8</td>\n",
       "      <td>Bouken Ou Beet</td>\n",
       "      <td>['Adventure', 'Fantasy', 'Shounen', 'Supernatu...</td>\n",
       "      <td>It is the dark century and the people are suff...</td>\n",
       "      <td>TV</td>\n",
       "      <td>NaN</td>\n",
       "      <td>['Toei Animation']</td>\n",
       "      <td>7.04</td>\n",
       "      <td>4757.0</td>\n",
       "      <td>3968.0</td>\n",
       "      <td>11247.0</td>\n",
       "      <td>52.0</td>\n",
       "      <td>Manga</td>\n",
       "      <td>Sep 30, 2004 to Sep 29, 2005</td>\n",
       "      <td>https://myanimelist.net/anime/8/Bouken_Ou_Beet</td>\n",
       "    </tr>\n",
       "    <tr>\n",
       "      <th>...</th>\n",
       "      <td>...</td>\n",
       "      <td>...</td>\n",
       "      <td>...</td>\n",
       "      <td>...</td>\n",
       "      <td>...</td>\n",
       "      <td>...</td>\n",
       "      <td>...</td>\n",
       "      <td>...</td>\n",
       "      <td>...</td>\n",
       "      <td>...</td>\n",
       "      <td>...</td>\n",
       "      <td>...</td>\n",
       "      <td>...</td>\n",
       "      <td>...</td>\n",
       "      <td>...</td>\n",
       "    </tr>\n",
       "    <tr>\n",
       "      <th>16997</th>\n",
       "      <td>27499</td>\n",
       "      <td>Sore Ike! Anpanman: Anpanman to Kaizoku Lobster</td>\n",
       "      <td>NaN</td>\n",
       "      <td>NaN</td>\n",
       "      <td>Special</td>\n",
       "      <td>NaN</td>\n",
       "      <td>NaN</td>\n",
       "      <td>5.50</td>\n",
       "      <td>NaN</td>\n",
       "      <td>NaN</td>\n",
       "      <td>70.0</td>\n",
       "      <td>NaN</td>\n",
       "      <td>NaN</td>\n",
       "      <td>NaN</td>\n",
       "      <td>NaN</td>\n",
       "    </tr>\n",
       "    <tr>\n",
       "      <th>16998</th>\n",
       "      <td>12091</td>\n",
       "      <td>X Bomber</td>\n",
       "      <td>NaN</td>\n",
       "      <td>NaN</td>\n",
       "      <td>TV</td>\n",
       "      <td>NaN</td>\n",
       "      <td>NaN</td>\n",
       "      <td>5.94</td>\n",
       "      <td>NaN</td>\n",
       "      <td>NaN</td>\n",
       "      <td>199.0</td>\n",
       "      <td>NaN</td>\n",
       "      <td>NaN</td>\n",
       "      <td>NaN</td>\n",
       "      <td>NaN</td>\n",
       "    </tr>\n",
       "    <tr>\n",
       "      <th>16999</th>\n",
       "      <td>29133</td>\n",
       "      <td>X Bomber Pilot</td>\n",
       "      <td>NaN</td>\n",
       "      <td>NaN</td>\n",
       "      <td>Special</td>\n",
       "      <td>NaN</td>\n",
       "      <td>NaN</td>\n",
       "      <td>4.28</td>\n",
       "      <td>NaN</td>\n",
       "      <td>NaN</td>\n",
       "      <td>77.0</td>\n",
       "      <td>NaN</td>\n",
       "      <td>NaN</td>\n",
       "      <td>NaN</td>\n",
       "      <td>NaN</td>\n",
       "    </tr>\n",
       "    <tr>\n",
       "      <th>17000</th>\n",
       "      <td>34485</td>\n",
       "      <td>Ganko-chan</td>\n",
       "      <td>NaN</td>\n",
       "      <td>NaN</td>\n",
       "      <td>NaN</td>\n",
       "      <td>NaN</td>\n",
       "      <td>NaN</td>\n",
       "      <td>NaN</td>\n",
       "      <td>NaN</td>\n",
       "      <td>NaN</td>\n",
       "      <td>11.0</td>\n",
       "      <td>NaN</td>\n",
       "      <td>NaN</td>\n",
       "      <td>NaN</td>\n",
       "      <td>NaN</td>\n",
       "    </tr>\n",
       "    <tr>\n",
       "      <th>17001</th>\n",
       "      <td>32713</td>\n",
       "      <td>Original C-V-P Momoko</td>\n",
       "      <td>NaN</td>\n",
       "      <td>NaN</td>\n",
       "      <td>OVA</td>\n",
       "      <td>NaN</td>\n",
       "      <td>NaN</td>\n",
       "      <td>4.00</td>\n",
       "      <td>NaN</td>\n",
       "      <td>NaN</td>\n",
       "      <td>66.0</td>\n",
       "      <td>NaN</td>\n",
       "      <td>NaN</td>\n",
       "      <td>NaN</td>\n",
       "      <td>NaN</td>\n",
       "    </tr>\n",
       "  </tbody>\n",
       "</table>\n",
       "<p>17002 rows × 15 columns</p>\n",
       "</div>"
      ],
      "text/plain": [
       "       Anime_id                                            Title  \\\n",
       "0             1                                     Cowboy Bebop   \n",
       "1             5                  Cowboy Bebop: Tengoku no Tobira   \n",
       "2             6                                           Trigun   \n",
       "3             7                               Witch Hunter Robin   \n",
       "4             8                                   Bouken Ou Beet   \n",
       "...         ...                                              ...   \n",
       "16997     27499  Sore Ike! Anpanman: Anpanman to Kaizoku Lobster   \n",
       "16998     12091                                         X Bomber   \n",
       "16999     29133                                   X Bomber Pilot   \n",
       "17000     34485                                       Ganko-chan   \n",
       "17001     32713                            Original C-V-P Momoko   \n",
       "\n",
       "                                                   Genre  \\\n",
       "0      ['Action', 'Adventure', 'Comedy', 'Drama', 'Sc...   \n",
       "1      ['Action', 'Space', 'Drama', 'Mystery', 'Sci-Fi']   \n",
       "2      ['Action', 'Sci-Fi', 'Adventure', 'Comedy', 'D...   \n",
       "3      ['Action', 'Magic', 'Police', 'Supernatural', ...   \n",
       "4      ['Adventure', 'Fantasy', 'Shounen', 'Supernatu...   \n",
       "...                                                  ...   \n",
       "16997                                                NaN   \n",
       "16998                                                NaN   \n",
       "16999                                                NaN   \n",
       "17000                                                NaN   \n",
       "17001                                                NaN   \n",
       "\n",
       "                                                Synopsis     Type  \\\n",
       "0      In the year 2071, humanity has colonized sever...       TV   \n",
       "1      Another day, another bounty—such is the life o...    Movie   \n",
       "2      Vash the Stampede is the man with a $$60,000,0...       TV   \n",
       "3      Witches are individuals with special powers li...       TV   \n",
       "4      It is the dark century and the people are suff...       TV   \n",
       "...                                                  ...      ...   \n",
       "16997                                                NaN  Special   \n",
       "16998                                                NaN       TV   \n",
       "16999                                                NaN  Special   \n",
       "17000                                                NaN      NaN   \n",
       "17001                                                NaN      OVA   \n",
       "\n",
       "                           Producer              Studio  Rating  ScoredBy  \\\n",
       "0                 ['Bandai Visual']         ['Sunrise']    8.81  363889.0   \n",
       "1      ['Sunrise', 'Bandai Visual']           ['Bones']    8.41  111187.0   \n",
       "2          ['Victor Entertainment']        ['Madhouse']    8.31  197451.0   \n",
       "3                 ['Bandai Visual']         ['Sunrise']    7.34   31875.0   \n",
       "4                               NaN  ['Toei Animation']    7.04    4757.0   \n",
       "...                             ...                 ...     ...       ...   \n",
       "16997                           NaN                 NaN    5.50       NaN   \n",
       "16998                           NaN                 NaN    5.94       NaN   \n",
       "16999                           NaN                 NaN    4.28       NaN   \n",
       "17000                           NaN                 NaN     NaN       NaN   \n",
       "17001                           NaN                 NaN    4.00       NaN   \n",
       "\n",
       "       Popularity   Members  Episodes    Source                         Aired  \\\n",
       "0            39.0  704490.0      26.0  Original   Apr 3, 1998 to Apr 24, 1999   \n",
       "1           475.0  179899.0       1.0  Original                   Sep 1, 2001   \n",
       "2           158.0  372709.0      26.0     Manga   Apr 1, 1998 to Sep 30, 1998   \n",
       "3          1278.0   74889.0      26.0  Original   Jul 2, 2002 to Dec 24, 2002   \n",
       "4          3968.0   11247.0      52.0     Manga  Sep 30, 2004 to Sep 29, 2005   \n",
       "...           ...       ...       ...       ...                           ...   \n",
       "16997         NaN      70.0       NaN       NaN                           NaN   \n",
       "16998         NaN     199.0       NaN       NaN                           NaN   \n",
       "16999         NaN      77.0       NaN       NaN                           NaN   \n",
       "17000         NaN      11.0       NaN       NaN                           NaN   \n",
       "17001         NaN      66.0       NaN       NaN                           NaN   \n",
       "\n",
       "                                                    Link  \n",
       "0           https://myanimelist.net/anime/1/Cowboy_Bebop  \n",
       "1      https://myanimelist.net/anime/5/Cowboy_Bebop__...  \n",
       "2                 https://myanimelist.net/anime/6/Trigun  \n",
       "3      https://myanimelist.net/anime/7/Witch_Hunter_R...  \n",
       "4         https://myanimelist.net/anime/8/Bouken_Ou_Beet  \n",
       "...                                                  ...  \n",
       "16997                                                NaN  \n",
       "16998                                                NaN  \n",
       "16999                                                NaN  \n",
       "17000                                                NaN  \n",
       "17001                                                NaN  \n",
       "\n",
       "[17002 rows x 15 columns]"
      ]
     },
     "execution_count": 32,
     "metadata": {},
     "output_type": "execute_result"
    }
   ],
   "source": [
    "df = pd.read_csv('anime_data.csv')\n",
    "df"
   ]
  },
  {
   "cell_type": "code",
   "execution_count": 33,
   "id": "02f15fcb",
   "metadata": {
    "scrolled": true
   },
   "outputs": [
    {
     "data": {
      "text/html": [
       "<div>\n",
       "<style scoped>\n",
       "    .dataframe tbody tr th:only-of-type {\n",
       "        vertical-align: middle;\n",
       "    }\n",
       "\n",
       "    .dataframe tbody tr th {\n",
       "        vertical-align: top;\n",
       "    }\n",
       "\n",
       "    .dataframe thead th {\n",
       "        text-align: right;\n",
       "    }\n",
       "</style>\n",
       "<table border=\"1\" class=\"dataframe\">\n",
       "  <thead>\n",
       "    <tr style=\"text-align: right;\">\n",
       "      <th></th>\n",
       "      <th>Title</th>\n",
       "      <th>Genre</th>\n",
       "      <th>Synopsis</th>\n",
       "    </tr>\n",
       "  </thead>\n",
       "  <tbody>\n",
       "    <tr>\n",
       "      <th>0</th>\n",
       "      <td>Cowboy Bebop</td>\n",
       "      <td>['Action', 'Adventure', 'Comedy', 'Drama', 'Sc...</td>\n",
       "      <td>In the year 2071, humanity has colonized sever...</td>\n",
       "    </tr>\n",
       "    <tr>\n",
       "      <th>1</th>\n",
       "      <td>Cowboy Bebop: Tengoku no Tobira</td>\n",
       "      <td>['Action', 'Space', 'Drama', 'Mystery', 'Sci-Fi']</td>\n",
       "      <td>Another day, another bounty—such is the life o...</td>\n",
       "    </tr>\n",
       "    <tr>\n",
       "      <th>2</th>\n",
       "      <td>Trigun</td>\n",
       "      <td>['Action', 'Sci-Fi', 'Adventure', 'Comedy', 'D...</td>\n",
       "      <td>Vash the Stampede is the man with a $$60,000,0...</td>\n",
       "    </tr>\n",
       "    <tr>\n",
       "      <th>3</th>\n",
       "      <td>Witch Hunter Robin</td>\n",
       "      <td>['Action', 'Magic', 'Police', 'Supernatural', ...</td>\n",
       "      <td>Witches are individuals with special powers li...</td>\n",
       "    </tr>\n",
       "    <tr>\n",
       "      <th>4</th>\n",
       "      <td>Bouken Ou Beet</td>\n",
       "      <td>['Adventure', 'Fantasy', 'Shounen', 'Supernatu...</td>\n",
       "      <td>It is the dark century and the people are suff...</td>\n",
       "    </tr>\n",
       "  </tbody>\n",
       "</table>\n",
       "</div>"
      ],
      "text/plain": [
       "                             Title  \\\n",
       "0                     Cowboy Bebop   \n",
       "1  Cowboy Bebop: Tengoku no Tobira   \n",
       "2                           Trigun   \n",
       "3               Witch Hunter Robin   \n",
       "4                   Bouken Ou Beet   \n",
       "\n",
       "                                               Genre  \\\n",
       "0  ['Action', 'Adventure', 'Comedy', 'Drama', 'Sc...   \n",
       "1  ['Action', 'Space', 'Drama', 'Mystery', 'Sci-Fi']   \n",
       "2  ['Action', 'Sci-Fi', 'Adventure', 'Comedy', 'D...   \n",
       "3  ['Action', 'Magic', 'Police', 'Supernatural', ...   \n",
       "4  ['Adventure', 'Fantasy', 'Shounen', 'Supernatu...   \n",
       "\n",
       "                                            Synopsis  \n",
       "0  In the year 2071, humanity has colonized sever...  \n",
       "1  Another day, another bounty—such is the life o...  \n",
       "2  Vash the Stampede is the man with a $$60,000,0...  \n",
       "3  Witches are individuals with special powers li...  \n",
       "4  It is the dark century and the people are suff...  "
      ]
     },
     "execution_count": 33,
     "metadata": {},
     "output_type": "execute_result"
    }
   ],
   "source": [
    "df_filter = df[['Title', 'Genre', 'Synopsis']]\n",
    "df_filter.head()"
   ]
  },
  {
   "cell_type": "code",
   "execution_count": 37,
   "id": "7550e01a",
   "metadata": {
    "scrolled": true
   },
   "outputs": [
    {
     "name": "stdout",
     "output_type": "stream",
     "text": [
      "<class 'pandas.core.frame.DataFrame'>\n",
      "Int64Index: 13743 entries, 0 to 15074\n",
      "Data columns (total 3 columns):\n",
      " #   Column    Non-Null Count  Dtype \n",
      "---  ------    --------------  ----- \n",
      " 0   Title     13743 non-null  object\n",
      " 1   Genre     13743 non-null  object\n",
      " 2   Synopsis  13743 non-null  object\n",
      "dtypes: object(3)\n",
      "memory usage: 429.5+ KB\n"
     ]
    }
   ],
   "source": [
    "df_filter.info()"
   ]
  },
  {
   "cell_type": "code",
   "execution_count": 38,
   "id": "e8af0056",
   "metadata": {},
   "outputs": [
    {
     "data": {
      "text/plain": [
       "(17002, 15)"
      ]
     },
     "execution_count": 38,
     "metadata": {},
     "output_type": "execute_result"
    }
   ],
   "source": [
    "df.shape"
   ]
  },
  {
   "cell_type": "code",
   "execution_count": 39,
   "id": "b521d4de",
   "metadata": {
    "scrolled": false
   },
   "outputs": [
    {
     "data": {
      "text/html": [
       "<div>\n",
       "<style scoped>\n",
       "    .dataframe tbody tr th:only-of-type {\n",
       "        vertical-align: middle;\n",
       "    }\n",
       "\n",
       "    .dataframe tbody tr th {\n",
       "        vertical-align: top;\n",
       "    }\n",
       "\n",
       "    .dataframe thead th {\n",
       "        text-align: right;\n",
       "    }\n",
       "</style>\n",
       "<table border=\"1\" class=\"dataframe\">\n",
       "  <thead>\n",
       "    <tr style=\"text-align: right;\">\n",
       "      <th></th>\n",
       "      <th>Title</th>\n",
       "      <th>Genre</th>\n",
       "      <th>Synopsis</th>\n",
       "    </tr>\n",
       "  </thead>\n",
       "  <tbody>\n",
       "    <tr>\n",
       "      <th>0</th>\n",
       "      <td>Cowboy Bebop</td>\n",
       "      <td>['Action', 'Adventure', 'Comedy', 'Drama', 'Sc...</td>\n",
       "      <td>In the year 2071, humanity has colonized sever...</td>\n",
       "    </tr>\n",
       "    <tr>\n",
       "      <th>1</th>\n",
       "      <td>Cowboy Bebop: Tengoku no Tobira</td>\n",
       "      <td>['Action', 'Space', 'Drama', 'Mystery', 'Sci-Fi']</td>\n",
       "      <td>Another day, another bounty—such is the life o...</td>\n",
       "    </tr>\n",
       "    <tr>\n",
       "      <th>2</th>\n",
       "      <td>Trigun</td>\n",
       "      <td>['Action', 'Sci-Fi', 'Adventure', 'Comedy', 'D...</td>\n",
       "      <td>Vash the Stampede is the man with a $$60,000,0...</td>\n",
       "    </tr>\n",
       "    <tr>\n",
       "      <th>3</th>\n",
       "      <td>Witch Hunter Robin</td>\n",
       "      <td>['Action', 'Magic', 'Police', 'Supernatural', ...</td>\n",
       "      <td>Witches are individuals with special powers li...</td>\n",
       "    </tr>\n",
       "    <tr>\n",
       "      <th>4</th>\n",
       "      <td>Bouken Ou Beet</td>\n",
       "      <td>['Adventure', 'Fantasy', 'Shounen', 'Supernatu...</td>\n",
       "      <td>It is the dark century and the people are suff...</td>\n",
       "    </tr>\n",
       "    <tr>\n",
       "      <th>...</th>\n",
       "      <td>...</td>\n",
       "      <td>...</td>\n",
       "      <td>...</td>\n",
       "    </tr>\n",
       "    <tr>\n",
       "      <th>15061</th>\n",
       "      <td>Orbital Era</td>\n",
       "      <td>['Action', 'Adventure', 'Fantasy', 'Sci-Fi', '...</td>\n",
       "      <td>Orbital Era  is set in the near-future on a sp...</td>\n",
       "    </tr>\n",
       "    <tr>\n",
       "      <th>15063</th>\n",
       "      <td>Akai Hana Shiroi Hana</td>\n",
       "      <td>['Kids', 'Music']</td>\n",
       "      <td>Akai Hana Shiroi Hana  was a song was original...</td>\n",
       "    </tr>\n",
       "    <tr>\n",
       "      <th>15064</th>\n",
       "      <td>Arui Tekoteko</td>\n",
       "      <td>['Kids', 'Music']</td>\n",
       "      <td>Of a pair of shoes, the left shoe is an animat...</td>\n",
       "    </tr>\n",
       "    <tr>\n",
       "      <th>15065</th>\n",
       "      <td>Golden Kamuy 3rd Season</td>\n",
       "      <td>['Action', 'Adventure', 'Comedy', 'Historical'...</td>\n",
       "      <td>Third season of Golden Kamuy.</td>\n",
       "    </tr>\n",
       "    <tr>\n",
       "      <th>15074</th>\n",
       "      <td>Gibiate</td>\n",
       "      <td>['Action', 'Fantasy', 'Horror', 'Martial Arts'...</td>\n",
       "      <td>In 2030, Japan. A virus has infected humans th...</td>\n",
       "    </tr>\n",
       "  </tbody>\n",
       "</table>\n",
       "<p>13743 rows × 3 columns</p>\n",
       "</div>"
      ],
      "text/plain": [
       "                                 Title  \\\n",
       "0                         Cowboy Bebop   \n",
       "1      Cowboy Bebop: Tengoku no Tobira   \n",
       "2                               Trigun   \n",
       "3                   Witch Hunter Robin   \n",
       "4                       Bouken Ou Beet   \n",
       "...                                ...   \n",
       "15061                      Orbital Era   \n",
       "15063            Akai Hana Shiroi Hana   \n",
       "15064                    Arui Tekoteko   \n",
       "15065          Golden Kamuy 3rd Season   \n",
       "15074                          Gibiate   \n",
       "\n",
       "                                                   Genre  \\\n",
       "0      ['Action', 'Adventure', 'Comedy', 'Drama', 'Sc...   \n",
       "1      ['Action', 'Space', 'Drama', 'Mystery', 'Sci-Fi']   \n",
       "2      ['Action', 'Sci-Fi', 'Adventure', 'Comedy', 'D...   \n",
       "3      ['Action', 'Magic', 'Police', 'Supernatural', ...   \n",
       "4      ['Adventure', 'Fantasy', 'Shounen', 'Supernatu...   \n",
       "...                                                  ...   \n",
       "15061  ['Action', 'Adventure', 'Fantasy', 'Sci-Fi', '...   \n",
       "15063                                  ['Kids', 'Music']   \n",
       "15064                                  ['Kids', 'Music']   \n",
       "15065  ['Action', 'Adventure', 'Comedy', 'Historical'...   \n",
       "15074  ['Action', 'Fantasy', 'Horror', 'Martial Arts'...   \n",
       "\n",
       "                                                Synopsis  \n",
       "0      In the year 2071, humanity has colonized sever...  \n",
       "1      Another day, another bounty—such is the life o...  \n",
       "2      Vash the Stampede is the man with a $$60,000,0...  \n",
       "3      Witches are individuals with special powers li...  \n",
       "4      It is the dark century and the people are suff...  \n",
       "...                                                  ...  \n",
       "15061  Orbital Era  is set in the near-future on a sp...  \n",
       "15063  Akai Hana Shiroi Hana  was a song was original...  \n",
       "15064  Of a pair of shoes, the left shoe is an animat...  \n",
       "15065                      Third season of Golden Kamuy.  \n",
       "15074  In 2030, Japan. A virus has infected humans th...  \n",
       "\n",
       "[13743 rows x 3 columns]"
      ]
     },
     "execution_count": 39,
     "metadata": {},
     "output_type": "execute_result"
    }
   ],
   "source": [
    "df_filter = df_filter.dropna(axis='rows')\n",
    "df_filter = df_filter.fillna('unknown')\n",
    "df_filter"
   ]
  },
  {
   "cell_type": "markdown",
   "id": "edb459bd",
   "metadata": {},
   "source": [
    "## Recommendation by Genre"
   ]
  },
  {
   "cell_type": "code",
   "execution_count": 12,
   "id": "a963407c",
   "metadata": {},
   "outputs": [
    {
     "data": {
      "text/plain": [
       "0        ['Action', 'Adventure', 'Comedy', 'Drama', 'Sc...\n",
       "1        ['Action', 'Space', 'Drama', 'Mystery', 'Sci-Fi']\n",
       "2        ['Action', 'Sci-Fi', 'Adventure', 'Comedy', 'D...\n",
       "3        ['Action', 'Magic', 'Police', 'Supernatural', ...\n",
       "4        ['Adventure', 'Fantasy', 'Shounen', 'Supernatu...\n",
       "                               ...                        \n",
       "16997                                                  NaN\n",
       "16998                                                  NaN\n",
       "16999                                                  NaN\n",
       "17000                                                  NaN\n",
       "17001                                                  NaN\n",
       "Name: Genre, Length: 17002, dtype: object"
      ]
     },
     "execution_count": 12,
     "metadata": {},
     "output_type": "execute_result"
    }
   ],
   "source": [
    "df_genre = df.Genre\n",
    "df_genre"
   ]
  },
  {
   "cell_type": "code",
   "execution_count": 40,
   "id": "c0a4b02c",
   "metadata": {},
   "outputs": [
    {
     "data": {
      "text/plain": [
       "0            action adventure comedy drama sci-fi space\n",
       "1                     action space drama mystery sci-fi\n",
       "2          action sci-fi adventure comedy drama shounen\n",
       "3        action magic police supernatural drama mystery\n",
       "4                adventure fantasy shounen supernatural\n",
       "                              ...                      \n",
       "16997                                               nan\n",
       "16998                                               nan\n",
       "16999                                               nan\n",
       "17000                                               nan\n",
       "17001                                               nan\n",
       "Name: Genre, Length: 17002, dtype: object"
      ]
     },
     "execution_count": 40,
     "metadata": {},
     "output_type": "execute_result"
    }
   ],
   "source": [
    "def remove_brackets(data):\n",
    "    data = str(data).lower()\n",
    "    data = data.replace('[', '')\n",
    "    data = data.replace(']', '')\n",
    "    data = data.replace(',', '')\n",
    "    data = data.replace(\"'\", '')\n",
    "    return data\n",
    "\n",
    "df_genre = df_genre.apply(remove_brackets)\n",
    "df_genre"
   ]
  },
  {
   "cell_type": "code",
   "execution_count": 41,
   "id": "e6e82d58",
   "metadata": {},
   "outputs": [],
   "source": [
    "vector_tfidf = TfidfVectorizer()\n",
    "result_tfidf = vector_tfidf.fit_transform(df_genre)"
   ]
  },
  {
   "cell_type": "code",
   "execution_count": 42,
   "id": "4097092f",
   "metadata": {},
   "outputs": [
    {
     "data": {
      "text/plain": [
       "array([[0.31460986, 0.34906404, 0.        , ..., 0.        , 0.        ,\n",
       "        0.        ],\n",
       "       [0.30413789, 0.        , 0.        , ..., 0.        , 0.        ,\n",
       "        0.        ],\n",
       "       [0.3437556 , 0.38140165, 0.        , ..., 0.        , 0.        ,\n",
       "        0.        ],\n",
       "       ...,\n",
       "       [0.        , 0.        , 0.        , ..., 0.        , 0.        ,\n",
       "        0.        ],\n",
       "       [0.        , 0.        , 0.        , ..., 0.        , 0.        ,\n",
       "        0.        ],\n",
       "       [0.        , 0.        , 0.        , ..., 0.        , 0.        ,\n",
       "        0.        ]])"
      ]
     },
     "execution_count": 42,
     "metadata": {},
     "output_type": "execute_result"
    }
   ],
   "source": [
    "result_arr = result_tfidf.toarray()\n",
    "result_arr"
   ]
  },
  {
   "cell_type": "code",
   "execution_count": 43,
   "id": "15935134",
   "metadata": {
    "scrolled": false
   },
   "outputs": [
    {
     "data": {
      "text/plain": [
       "array(['action', 'adventure', 'ai', 'arts', 'cars', 'comedy', 'dementia',\n",
       "       'demons', 'drama', 'ecchi', 'fantasy', 'fi', 'game', 'harem',\n",
       "       'hentai', 'historical', 'horror', 'josei', 'kids', 'life', 'magic',\n",
       "       'martial', 'mecha', 'military', 'music', 'mystery', 'nan', 'of',\n",
       "       'parody', 'police', 'power', 'psychological', 'romance', 'samurai',\n",
       "       'school', 'sci', 'seinen', 'shoujo', 'shounen', 'slice', 'space',\n",
       "       'sports', 'super', 'supernatural', 'thriller', 'vampire', 'yaoi',\n",
       "       'yuri'], dtype=object)"
      ]
     },
     "execution_count": 43,
     "metadata": {},
     "output_type": "execute_result"
    }
   ],
   "source": [
    "vector_tfidf.get_feature_names_out()"
   ]
  },
  {
   "cell_type": "code",
   "execution_count": 46,
   "id": "861bf3aa",
   "metadata": {},
   "outputs": [],
   "source": [
    "# choose one or more category\n",
    "test = 'school drama comedy sports'"
   ]
  },
  {
   "cell_type": "code",
   "execution_count": 47,
   "id": "2b45cae8",
   "metadata": {},
   "outputs": [
    {
     "name": "stdout",
     "output_type": "stream",
     "text": [
      "Yozakura Quartet: Tsuki ni Naku\n",
      "Detective Conan OVA 02: 16 Suspects\n",
      "Ebenbourg no Kaze\n",
      "Ken-chan\n",
      "Shi Wan Ge Leng Xiaohua Movie 1\n",
      "Aru Zombie Shoujo no Sainan (ONA)\n"
     ]
    }
   ],
   "source": [
    "test_arr = vector_tfidf.transform([test])\n",
    "test_arr = test_arr.toarray()\n",
    "\n",
    "result = {}\n",
    "for id, vector in enumerate(result_arr):\n",
    "    cosine_val = cosine_similarity([result_arr[id]], test_arr)\n",
    "    result[id] = cosine_val\n",
    "\n",
    "result_desc = dict(sorted(result.items(), key=lambda item: item[1], reverse=True))\n",
    "\n",
    "top_n = 5\n",
    "\n",
    "for n, anime_id in enumerate(result_desc):\n",
    "    if n > 5:\n",
    "        break\n",
    "    print(df_filter.iloc[anime_id]['Title'])"
   ]
  },
  {
   "cell_type": "markdown",
   "id": "e393e14b",
   "metadata": {},
   "source": [
    "## Recomendation  By Synopsis"
   ]
  },
  {
   "cell_type": "code",
   "execution_count": 48,
   "id": "b41e1466",
   "metadata": {},
   "outputs": [
    {
     "data": {
      "text/plain": [
       "0        In the year 2071, humanity has colonized sever...\n",
       "1        Another day, another bounty—such is the life o...\n",
       "2        Vash the Stampede is the man with a $$60,000,0...\n",
       "3        Witches are individuals with special powers li...\n",
       "4        It is the dark century and the people are suff...\n",
       "                               ...                        \n",
       "15061    Orbital Era  is set in the near-future on a sp...\n",
       "15063    Akai Hana Shiroi Hana  was a song was original...\n",
       "15064    Of a pair of shoes, the left shoe is an animat...\n",
       "15065                        Third season of Golden Kamuy.\n",
       "15074    In 2030, Japan. A virus has infected humans th...\n",
       "Name: Synopsis, Length: 13743, dtype: object"
      ]
     },
     "execution_count": 48,
     "metadata": {},
     "output_type": "execute_result"
    }
   ],
   "source": [
    "df_synopsis = df_filter.Synopsis\n",
    "df_synopsis"
   ]
  },
  {
   "cell_type": "code",
   "execution_count": 49,
   "id": "9f04317f",
   "metadata": {},
   "outputs": [
    {
     "data": {
      "text/plain": [
       "0        In the year 2071, humanity has colonized sever...\n",
       "1        Another day, another bounty—such is the life o...\n",
       "2        Vash the Stampede is the man with a $$60,000,0...\n",
       "3        Witches are individuals with special powers li...\n",
       "4        It is the dark century and the people are suff...\n",
       "                               ...                        \n",
       "15061    Orbital Era  is set in the near-future on a sp...\n",
       "15063    Akai Hana Shiroi Hana  was a song was original...\n",
       "15064    Of a pair of shoes, the left shoe is an animat...\n",
       "15065                        Third season of Golden Kamuy.\n",
       "15074    In 2030, Japan. A virus has infected humans th...\n",
       "Name: Synopsis, Length: 13743, dtype: object"
      ]
     },
     "execution_count": 49,
     "metadata": {},
     "output_type": "execute_result"
    }
   ],
   "source": [
    "df_synopsis.dropna()"
   ]
  },
  {
   "cell_type": "code",
   "execution_count": 50,
   "id": "eb54905e",
   "metadata": {},
   "outputs": [
    {
     "data": {
      "text/plain": [
       "0        in the year 2071 humanity has colonized severa...\n",
       "1        another day another bounty—such is the life of...\n",
       "2        vash the stampede is the man with a $$60000000...\n",
       "3        witches are individuals with special powers li...\n",
       "4        it is the dark century and the people are suff...\n",
       "                               ...                        \n",
       "15061    orbital era  is set in the near-future on a sp...\n",
       "15063    akai hana shiroi hana  was a song was original...\n",
       "15064    of a pair of shoes the left shoe is an animate...\n",
       "15065                         third season of golden kamuy\n",
       "15074    in 2030 japan a virus has infected humans thro...\n",
       "Name: Synopsis, Length: 13743, dtype: object"
      ]
     },
     "execution_count": 50,
     "metadata": {},
     "output_type": "execute_result"
    }
   ],
   "source": [
    "def remove_brackets(data):\n",
    "    data = str(data.lower())\n",
    "    data = data.replace('[', '')\n",
    "    data = data.replace(']', '')\n",
    "    data = data.replace(',', '')\n",
    "    data = data.replace(\"'\", '')\n",
    "    data = data.replace(\".\", '')\n",
    "    return data\n",
    "\n",
    "df_synopsis = df_synopsis.apply(remove_brackets)\n",
    "df_synopsis"
   ]
  },
  {
   "cell_type": "code",
   "execution_count": 51,
   "id": "96918ac5",
   "metadata": {},
   "outputs": [
    {
     "data": {
      "text/plain": [
       "array([[0., 0., 0., ..., 0., 0., 0.],\n",
       "       [0., 0., 0., ..., 0., 0., 0.],\n",
       "       [0., 0., 0., ..., 0., 0., 0.],\n",
       "       ...,\n",
       "       [0., 0., 0., ..., 0., 0., 0.],\n",
       "       [0., 0., 0., ..., 0., 0., 0.],\n",
       "       [0., 0., 0., ..., 0., 0., 0.]])"
      ]
     },
     "execution_count": 51,
     "metadata": {},
     "output_type": "execute_result"
    }
   ],
   "source": [
    "vector_tfidf = TfidfVectorizer()\n",
    "result_tfidf = vector_tfidf.fit_transform(df_synopsis)\n",
    "result_arr = result_tfidf.toarray()\n",
    "result_arr"
   ]
  },
  {
   "cell_type": "code",
   "execution_count": 52,
   "id": "90840983",
   "metadata": {},
   "outputs": [],
   "source": [
    "# choose one or more category\n",
    "test = 'story about a ninja who wants to be hokage'"
   ]
  },
  {
   "cell_type": "code",
   "execution_count": 53,
   "id": "e8fc5722",
   "metadata": {},
   "outputs": [
    {
     "name": "stdout",
     "output_type": "stream",
     "text": [
      "Ninjutsu Hinotama Kozou: Edo no Maki\n",
      "Ninja Slayer From Animation\n",
      "Ninja Tamamaru\n",
      "Boruto: Naruto the Movie\n",
      "Shin Ninja Tamamaru\n",
      "Naruto\n"
     ]
    }
   ],
   "source": [
    "test_arr = vector_tfidf.transform([test])\n",
    "test_arr = test_arr.toarray()\n",
    "\n",
    "result = {}\n",
    "for id, vector in enumerate(result_arr):\n",
    "    cosine_val = cosine_similarity([result_arr[id]], test_arr)\n",
    "    result[id] = cosine_val\n",
    "\n",
    "result_desc = dict(sorted(result.items(), key=lambda item: item[1], reverse=True))\n",
    "\n",
    "top_n = 5\n",
    "\n",
    "for n, anime_id in enumerate(result_desc):\n",
    "    if n > 5:\n",
    "        break\n",
    "    print(df_filter.iloc[anime_id]['Title'])"
   ]
  },
  {
   "cell_type": "code",
   "execution_count": null,
   "id": "83da6caa",
   "metadata": {},
   "outputs": [],
   "source": []
  }
 ],
 "metadata": {
  "kernelspec": {
   "display_name": "Python 3 (ipykernel)",
   "language": "python",
   "name": "python3"
  },
  "language_info": {
   "codemirror_mode": {
    "name": "ipython",
    "version": 3
   },
   "file_extension": ".py",
   "mimetype": "text/x-python",
   "name": "python",
   "nbconvert_exporter": "python",
   "pygments_lexer": "ipython3",
   "version": "3.9.0"
  }
 },
 "nbformat": 4,
 "nbformat_minor": 5
}
